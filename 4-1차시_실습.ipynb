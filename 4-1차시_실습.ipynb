{
  "cells": [
    {
      "attachments": {},
      "cell_type": "markdown",
      "metadata": {
        "id": "UuwqnkNthlXJ"
      },
      "source": [
        "## **4-1차시-실습**\n",
        "배워볼 내용\n",
        "*   슬라이싱과 인덱싱\n"
      ]
    },
    {
      "cell_type": "code",
      "execution_count": null,
      "metadata": {},
      "outputs": [],
      "source": [
        "### 슬라이싱 예제"
      ]
    },
    {
      "cell_type": "code",
      "execution_count": null,
      "metadata": {},
      "outputs": [],
      "source": [
        "# 해당 실습에서 다음 List를 사용할 것입니다.\n",
        "List = [\"a\",\"b\",\"c\",\"d\",\"e\",\"f\",\"g\"]\n",
        "\n",
        "# Slicing은 List[start: end+1: step = (default 1)] 형태로 작성할 수 있습니다."
      ]
    },
    {
      "cell_type": "code",
      "execution_count": null,
      "metadata": {},
      "outputs": [],
      "source": [
        "# 예제 1.\n",
        "\n",
        "# List의 index = 2 인곳부터 index = 5인 곳까지 추출하기 \n",
        "# 힌트) Slicing에서는 시작은 index와 같게, 마지막은 마지막 index에서 1추가한 곳까지 입니다.\n",
        "\n",
        "List[2:6]\n"
      ]
    },
    {
      "cell_type": "code",
      "execution_count": null,
      "metadata": {},
      "outputs": [],
      "source": [
        "# 예제 2.\n",
        "\n",
        "# List의 처음인곳부터 index = 5인 곳까지 추출하기 \n",
        "# 힌트) Slicing에서 시작부터 추출하려면 0을 쓰거나, 공백으로 남겨도 됩니다, 마지막은 마지막 index에서 1추가한 곳까지 입니다.\n",
        "\n",
        "List[0:6]\n"
      ]
    },
    {
      "cell_type": "code",
      "execution_count": null,
      "metadata": {},
      "outputs": [],
      "source": [
        "# 예제 3.\n",
        "\n",
        "# List의 index = 2 인곳부터 마지막인 곳까지 추출하기 \n",
        "# 힌트) Slicing에서는 시작은 index와 같게, 마지막까지 뽑으려면 end칸을 공백으로 남겨놓으면 됩니다.\n",
        "\n",
        "List[2:]\n"
      ]
    },
    {
      "cell_type": "code",
      "execution_count": null,
      "metadata": {},
      "outputs": [],
      "source": [
        "# 예제 4.\n",
        "\n",
        "# 역 인덱싱(음수 인덱싱)을 통해서도 추출이 가능합니다.\n",
        "\n",
        "List[-3:-1]\n"
      ]
    },
    {
      "cell_type": "code",
      "execution_count": null,
      "metadata": {},
      "outputs": [],
      "source": [
        "# 예제 5.\n",
        "\n",
        "# 꼭 한칸씩 뽑을 필요는 없습니다. step을 넣어주면 원하는 칸씩 사용 할 수 있습니다.\n",
        "\n",
        "List[::2] # 처음부터 마지막까지 처음을 기준으로 2칸씩 뽑는다는 의미 입니다."
      ]
    },
    {
      "cell_type": "code",
      "execution_count": null,
      "metadata": {},
      "outputs": [],
      "source": [
        "# 예제 6.\n",
        "\n",
        "# 거꾸로 출력도 가능합니다. 어떻게 하면 거꾸로도 출력할 수 있을까요?\n",
        "# 힌트는 step을 음수로 하는 것입니다.\n",
        "\n",
        "List[5::-1]"
      ]
    },
    {
      "cell_type": "code",
      "execution_count": null,
      "metadata": {},
      "outputs": [],
      "source": [
        "# 예제 7.\n",
        "\n",
        "# 배열의 특정 부분들을 각각 슬라이싱 해서 그 배열을 합칠 수도 있습니다.\n",
        "\n",
        "another = List[:2] + List[4:]\n",
        "print(another)"
      ]
    },
    {
      "cell_type": "code",
      "execution_count": null,
      "metadata": {},
      "outputs": [],
      "source": [
        "# 예제 8.\n",
        "\n",
        "# 약간 고급 기능입니다, 튜플은 중간에 값 수정이 되지 않습니다.. 그럼 어떻게 하면 값을 바꿔볼 수 있을 까요?\n",
        "# 슬라이싱을 활용해볼 수 있습니다.\n",
        "\n",
        "t = (1,2,4,5)\n",
        "\n",
        "# 튜플을 생성했는데 중간에 3을 빠트렸습니다.\n",
        "\n",
        "# 아마도 중간에 수정을 하려면 다음 tuple을 앞에서 2개 슬라이싱 하고, 뒤에서 2개 슬라이싱 하고, 그 사이에 3을 추가해야겠군요\n",
        "\n",
        "newt = t[:2] + (3, )+t[2:]\n",
        "\n",
        "# 하나짜리 튜플 추가는 (a, )로 해야합니다."
      ]
    },
    {
      "cell_type": "code",
      "execution_count": null,
      "metadata": {},
      "outputs": [],
      "source": [
        "### 이제 직접 실습을 해봅시다. 해당 List를 가지고 슬라이싱 연습을 해봅시다."
      ]
    },
    {
      "cell_type": "code",
      "execution_count": null,
      "metadata": {},
      "outputs": [],
      "source": [
        "ID = [\"000\",\"001\",\"002\",\"003\",\"004\",\"005\",\"006\"]\n",
        "\n",
        "# 다음은 ID List 입니다."
      ]
    },
    {
      "cell_type": "code",
      "execution_count": null,
      "metadata": {},
      "outputs": [],
      "source": [
        "# 실습 1.\n",
        "# List 맨앞 data 2개를 가져오세요"
      ]
    },
    {
      "cell_type": "code",
      "execution_count": null,
      "metadata": {},
      "outputs": [],
      "source": [
        "# 실습 2.\n",
        "# List 맨 뒤 data 2개를 가져오세요"
      ]
    },
    {
      "cell_type": "code",
      "execution_count": null,
      "metadata": {},
      "outputs": [],
      "source": [
        "# 실습 3.\n",
        "# List의 \"002\" 부터 \"005\" 까지 슬라이싱해서 가져오세요"
      ]
    },
    {
      "cell_type": "code",
      "execution_count": null,
      "metadata": {},
      "outputs": [],
      "source": [
        "# 실습 4.\n",
        "# 아이디가 \"000\"부터 시작해서 홀수 번호 ID만 가져오세요"
      ]
    },
    {
      "cell_type": "code",
      "execution_count": null,
      "metadata": {},
      "outputs": [],
      "source": [
        "# 실습 5.\n",
        "# 리스트를 뒤집에서 출력하세요"
      ]
    }
  ],
  "metadata": {
    "colab": {
      "provenance": []
    },
    "kernelspec": {
      "display_name": "Python 3",
      "name": "python3"
    },
    "language_info": {
      "name": "python"
    }
  },
  "nbformat": 4,
  "nbformat_minor": 0
}
