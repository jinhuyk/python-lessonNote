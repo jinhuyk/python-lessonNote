{
  "cells": [
    {
      "cell_type": "code",
      "execution_count": null,
      "metadata": {
        "id": "LCv7hxwKP19g"
      },
      "outputs": [],
      "source": [
        "### written by Jinhuyk. Mun ###"
      ]
    },
    {
      "cell_type": "code",
      "execution_count": null,
      "metadata": {
        "id": "7YAEmzV6NjCP"
      },
      "outputs": [],
      "source": [
        "#############\n",
        "hello = '저장이 잘못된것 같습니다'\n",
        "변수3 = '저장이 잘못된것 같습니다'\n",
        "입력변수 ='저장이 잘못된것 같습니다 (input())사용해보세요'"
      ]
    },
    {
      "cell_type": "markdown",
      "metadata": {
        "id": "o_i3fdKTJ7gN"
      },
      "source": [
        "## **2차시-실습**\n",
        "배워볼 내용\n",
        "*   주석\n",
        "*   입력\n",
        "*   출력\n",
        "*   변수\n",
        "*   List\n",
        "\n"
      ]
    },
    {
      "cell_type": "markdown",
      "metadata": {
        "id": "Kp08iqsqHgdz"
      },
      "source": [
        "### **주석**\n",
        "주석은 ('#') 표시를 이용하여 합니다, 초록색 글씨라면 컴퓨터는 이 주석은 자동으로 넘어갑니다"
      ]
    },
    {
      "cell_type": "markdown",
      "metadata": {
        "id": "QxVW2aXwzzIT"
      },
      "source": [
        "### **출력**\n",
        "\n",
        "출력은 결과 창에 어떠한 것을 출력하는 것과 같습니다.\n",
        "출력은 'print('***')' 를 이용합니다, 특징이라면? 다른 언어 (C , Java 등 )과 달리 ; (세미콜론) 을 붙이지 않습니다\n",
        "</br>\n",
        "\n",
        "print를 사용하다보면 쉼표를 볼 수 있습니다.\n",
        "쉼표의 의미는 무엇일까요?\n",
        "아래 실습에서 확인해봅시다.\n",
        "</br>\n",
        "\n",
        "\n",
        "또한 똑같은 문구를 반복하여 출력도 할 수 있습니다\n",
        "아래 실습에서 확인해봅시다."
      ]
    },
    {
      "cell_type": "code",
      "execution_count": null,
      "metadata": {
        "id": "Jv8Gsh17IUgc"
      },
      "outputs": [],
      "source": [
        "print('hello World!')\n",
        "print(3)\n",
        "print(\"123456\")\n",
        "\n",
        "\n",
        "a = 7\n",
        "b = 8\n",
        "c = 9\n",
        "print(\"123456\",a,b,c,\"10\")\n",
        "print(\"Helloworld\\n\" * 10)"
      ]
    },
    {
      "cell_type": "markdown",
      "source": [
        "### **입력**\n",
        "\n",
        "입력은 변수 = input() 를 사용합니다\n",
        "\n",
        "자세히 보자면? 입력받은 값이 변수에 들어가게 됩니다.\n",
        "\n",
        "그럼 앞으로 우리는 변수의 값이 우리가 입력한 값이랑 같다는 것을 알게 됩니다.\n",
        "\n",
        "그럼 입력한 값을 다시 출력하려면 어떻게 해야 할까요?\n",
        "\n",
        "\n",
        "위에서 배운 print(변수) 로 출력해주면 됩니다.\n",
        "\n",
        "</br>\n",
        "\n",
        "\n",
        "그리고 input()에서 () 안에 문장을 넣을 수 있습니다 이건 밑에 예시에서 알아볼 수 있습니다."
      ],
      "metadata": {
        "id": "eQpyok6sz9eH"
      }
    },
    {
      "cell_type": "code",
      "execution_count": null,
      "metadata": {
        "id": "C1Ro2oubIoJv"
      },
      "outputs": [],
      "source": [
        "변수 = input()\n",
        "print(변수)\n",
        "\n",
        "변수2 = input(\"변수2를 입력해주세요\")\n",
        "\n",
        "print(변수2)"
      ]
    },
    {
      "cell_type": "markdown",
      "source": [
        "### **변수**\n",
        "\n",
        " 변수는 어떠한 값을 담아두는 바구니 같은 공간입니다, 변수 안에 값을 넣으면? 필요할때마다 그 값을 부를 수도 있고, 변수의 값을 바꿀수도 있습니다\n",
        "\n",
        " 변수는 약간의 규칙이 있습니다\n",
        "\n",
        " python에서 사용하는 함수( print, input, if, 등등.. )은 사용 불가능입니다,\n",
        "\n",
        "  컴퓨터가 해석하지 못하고, 숫자가 먼저 와도 해석을 못합니다\n",
        "\n"
      ],
      "metadata": {
        "id": "zG3eYXti0wUs"
      }
    },
    {
      "cell_type": "code",
      "execution_count": null,
      "metadata": {
        "id": "djzDtDE-Ky8N"
      },
      "outputs": [],
      "source": [
        "변수 = 3 #변수에 3이란 값을 넣었습니다\n",
        "a = 777 #변수 a 에 777 이란 값을 넣었습니다\n",
        "b = 'hello' #변수에 'hello'라는 문자열을 넣었습니다\n",
        "c = [1,2,3] #곧 배우겠지만 c에 리스트 형태의 무언가를 넣었습니다\n",
        "\n",
        "# 한번 출력를 해보면 우리가 넣은 것 그대로 나올수 있습니다\n",
        "# 그런데 출력은 어떻게 했었죠..? -> 실습으로 해봅시다"
      ]
    },
    {
      "cell_type": "markdown",
      "source": [
        "## 실습 1.\n",
        "\n",
        "위에서 배운 변수 a,b,c를 한번 출력해봅시다.\n",
        "\n",
        "- print()를 이용하여 출력을 할 수 있습니다."
      ],
      "metadata": {
        "id": "vTW0WkqU0-DE"
      }
    },
    {
      "cell_type": "code",
      "source": [
        "# 실습 1.\n",
        "\n",
        "\n",
        "\n",
        "\n"
      ],
      "metadata": {
        "id": "srPlrw0o1lOJ"
      },
      "execution_count": null,
      "outputs": []
    },
    {
      "cell_type": "markdown",
      "source": [
        "### **자료형**\n",
        "\n",
        "프로그래밍을 하다보면 다양한 자료형을 가지고 자신이 원하는 프로그램을 만들 수 있습니다 (분석도 마찬가지 이고요...)\n",
        "ppt 에서 간단히 알아보았는데요, 한번 간단히 실습해봅시다.\n",
        "\n",
        "List 자료형\n",
        "\n",
        "\n",
        "하나의 이름으로 여러개의 변수들을 담을 수 있는 가장 대표적인 자료형입니다."
      ],
      "metadata": {
        "id": "qwtnaZzS1n0g"
      }
    },
    {
      "cell_type": "code",
      "source": [
        "학과 = [\"컴퓨터 공학과\", \"기계 공학과\", \"화학 공학과\", \"전기전자공학과\"]\n",
        "주식가격 = [3000,3010,3008,3000,2999]"
      ],
      "metadata": {
        "id": "N5OZrsNo12lY"
      },
      "execution_count": null,
      "outputs": []
    },
    {
      "cell_type": "markdown",
      "source": [
        "이런식으로 데이터들을 원하는 이름으로 묶어서 저장할 수 있습니다. 이 데이터를 뽑아 내는 방법은 다양합니다 (나중에 반복문에서도 사용)\n",
        "\n",
        "어떤 List의 특정 값을 뽑고 싶다면 다음처럼 할 수 있습니다."
      ],
      "metadata": {
        "id": "pUFnpOFt1yZI"
      }
    },
    {
      "cell_type": "code",
      "source": [
        "print(학과[0])\n",
        "print(주식가격[1])"
      ],
      "metadata": {
        "id": "hRtC24T814ov"
      },
      "execution_count": null,
      "outputs": []
    },
    {
      "cell_type": "markdown",
      "source": [
        "List는 자료분석에서도 아주 많이 사용되는 중요한 형태입니다\n",
        "\n",
        "한번 List 자료를 뽑아보는 더 많은 방법을 알아볼까요? (한번 유추해보세요)"
      ],
      "metadata": {
        "id": "zTyFCJho154I"
      }
    },
    {
      "cell_type": "code",
      "source": [
        "List1 = [0,1,2,3,4,5]\n",
        "\n",
        "print(List1[-1])\n",
        "print(List1[4])"
      ],
      "metadata": {
        "id": "IOX85t_L2Big"
      },
      "execution_count": null,
      "outputs": []
    },
    {
      "cell_type": "markdown",
      "source": [
        "또 List는 특정 구간을 뽑아낼 수도 있습니다."
      ],
      "metadata": {
        "id": "fsFkDrNH2CWI"
      }
    },
    {
      "cell_type": "code",
      "source": [
        "Top7 = [\"c\",\"c++\",\"java\",\"python\",\"js\",\"ruby\",\"c#\"]"
      ],
      "metadata": {
        "id": "7IwVYIPn2I0I"
      },
      "execution_count": null,
      "outputs": []
    },
    {
      "cell_type": "markdown",
      "source": [
        "다음은 Top7이라는 List 입니다.\n",
        "\n",
        "여기서 상위 3개만 뽑아내려면 어떻게 해야할까요?"
      ],
      "metadata": {
        "id": "xEQlS0gO2GUR"
      }
    },
    {
      "cell_type": "code",
      "source": [
        "Top3 = Top7[0:3]\n",
        "print(Top3)"
      ],
      "metadata": {
        "id": "FNkovpBg2KHg"
      },
      "execution_count": null,
      "outputs": []
    },
    {
      "cell_type": "markdown",
      "source": [
        "이번엔 List에 새로 자료를 추가해봅시다.\n",
        "\n",
        "위에서 만든 List1 에서 6이란 값을 추가해볼게요"
      ],
      "metadata": {
        "id": "VqIL8h5C2MhI"
      }
    },
    {
      "cell_type": "code",
      "source": [
        "List1.append(6)\n",
        "print(List1)"
      ],
      "metadata": {
        "id": "psfMhUfH2Un1"
      },
      "execution_count": null,
      "outputs": []
    },
    {
      "cell_type": "markdown",
      "source": [
        "이번엔 원하는 위치에 값을 추가해볼까요?"
      ],
      "metadata": {
        "id": "saqnL5fe2Vcm"
      }
    },
    {
      "cell_type": "code",
      "source": [
        "List1.insert(0,-1)\n",
        "print(List1)"
      ],
      "metadata": {
        "id": "jYHUmEtH2Wk9"
      },
      "execution_count": null,
      "outputs": []
    },
    {
      "cell_type": "markdown",
      "source": [
        "List 내의 데이터가 몇개있는지도 알아볼까요?"
      ],
      "metadata": {
        "id": "aJnRcYQb2X2V"
      }
    },
    {
      "cell_type": "code",
      "source": [
        "print(len(List1))"
      ],
      "metadata": {
        "id": "3TePED_E2Z4d"
      },
      "execution_count": null,
      "outputs": []
    },
    {
      "cell_type": "markdown",
      "source": [
        "마지막으로 자료를 삭제 해보겠습니다"
      ],
      "metadata": {
        "id": "IKYUCsZh2aRl"
      }
    },
    {
      "cell_type": "code",
      "source": [
        "\n",
        "del List1[0]\n",
        "print(List1)"
      ],
      "metadata": {
        "id": "t10J_4hG2cWO"
      },
      "execution_count": null,
      "outputs": []
    },
    {
      "cell_type": "markdown",
      "source": [
        "지금까지 파이썬에서 가장 많이 사용되는 자료형인 List에 대해서 알아보았습니다.\n",
        "\n",
        "list 말고도 여러가지 자료형이 파이썬에 존재합니다. 이는 나중 차시에서 차차 나오게 됩니다."
      ],
      "metadata": {
        "id": "F8ckdX4m2dkn"
      }
    },
    {
      "cell_type": "markdown",
      "metadata": {
        "id": "L8KFM6ihMiDI"
      },
      "source": [
        "## 실습 2.\n",
        "\n",
        "\n",
        "\n"
      ]
    },
    {
      "cell_type": "markdown",
      "source": [
        "다음 밑의 주석처럼 출력해봅시다\n",
        "\n",
        "'안녕하세요 저는 파이썬을 배우고 있습니다'\n",
        "\n",
        "\n",
        "'제 이름은 OOO 입니다'\n",
        "\n",
        "\n",
        "'오늘의 날짜는 OO월 OO일 입니다'\n",
        "\n"
      ],
      "metadata": {
        "id": "ve3PtkIr2z1P"
      }
    },
    {
      "cell_type": "code",
      "execution_count": null,
      "metadata": {
        "id": "pZ8dcn-7OmDd"
      },
      "outputs": [],
      "source": [
        "## 실습 2.\n",
        "\n",
        "\n"
      ]
    },
    {
      "cell_type": "markdown",
      "source": [
        "## 실습 3."
      ],
      "metadata": {
        "id": "tBvh2GPI27CO"
      }
    },
    {
      "cell_type": "markdown",
      "source": [
        "다음 변수 < hello >에 'world'라는 문자를 저장해봅시다\n",
        "\n",
        "다음 변수 <변수3>에 '12345'라는 숫자를 저장해봅시다\n",
        "\n",
        "다음 변수 <입력변수>에 input()를 연결해보고, 실행시켜서 '안녕하세요' 라는 문자열을 입력해봅시다\n",
        "\n",
        "\n"
      ],
      "metadata": {
        "id": "r4pzFN-C3A93"
      }
    },
    {
      "cell_type": "code",
      "source": [
        "## 실습 3.\n",
        "\n"
      ],
      "metadata": {
        "id": "Pce9LoY626wW"
      },
      "execution_count": null,
      "outputs": []
    },
    {
      "cell_type": "markdown",
      "source": [
        "이 다음 블럭을 실행시켜서 제대로 넣은 값이 나오는지 확인해봅시다"
      ],
      "metadata": {
        "id": "WB5KsLJX3RED"
      }
    },
    {
      "cell_type": "code",
      "execution_count": null,
      "metadata": {
        "id": "4pxXPtd7Ndj8"
      },
      "outputs": [],
      "source": [
        "print(hello)\n",
        "print(변수3)\n",
        "print(입력변수)"
      ]
    },
    {
      "cell_type": "markdown",
      "source": [
        "## 실습 4."
      ],
      "metadata": {
        "id": "CrxGNMIm3SIj"
      }
    },
    {
      "cell_type": "markdown",
      "source": [
        "난이도가 있는 list 입니다. 위에 자료를 잘 읽어보면서 문제를 풀어봅시다."
      ],
      "metadata": {
        "id": "0Agq1l983Wzz"
      }
    },
    {
      "cell_type": "markdown",
      "source": [
        "어떤 주식의 종가는 다음과 같습니다.\n",
        "\n",
        "\n",
        "09/07의 종가를 리스트의 첫 번째 항목으로 입력해서 losing_price라는 이름의 리스트를 만들어보세요.\n",
        "\n",
        "\n",
        "\n",
        " 날짜\t요일\t종가\n",
        "\n",
        " 09/11\t금\t488,500\n",
        "\n",
        " 09/10\t목\t500,500\n",
        "\n",
        " 09/09\t수\t501,000\n",
        "\n",
        " 09/08\t화\t461,500\n",
        "\n",
        "09/07\t월\t474,500"
      ],
      "metadata": {
        "id": "NO9bRaNR3cKe"
      }
    },
    {
      "cell_type": "code",
      "execution_count": null,
      "metadata": {
        "id": "2K2T4oOyzzIa"
      },
      "outputs": [],
      "source": []
    },
    {
      "cell_type": "markdown",
      "source": [
        "다음 종가리스트의 마지막에 09/14 월 종가: 500,000 을 추가해보세요\n",
        "\n",
        "\n",
        "다음 종가리스트의 첫번째에 09/05 금 종가: 484,000 을 추가해보세요"
      ],
      "metadata": {
        "id": "Y_TzqdSm4KXJ"
      }
    },
    {
      "cell_type": "code",
      "execution_count": null,
      "metadata": {
        "id": "Yu8lizztOnO7"
      },
      "outputs": [],
      "source": []
    },
    {
      "cell_type": "markdown",
      "source": [
        "다음 종가리스트에서 앞에서 3개의 데이터를 출력해보세요"
      ],
      "metadata": {
        "id": "0JqFdLxr4O98"
      }
    },
    {
      "cell_type": "code",
      "execution_count": null,
      "metadata": {
        "id": "8Es-oGSWzzIb"
      },
      "outputs": [],
      "source": []
    },
    {
      "cell_type": "markdown",
      "source": [
        "## 실습 5."
      ],
      "metadata": {
        "id": "229uGZA34TVq"
      }
    },
    {
      "cell_type": "markdown",
      "source": [
        "조금 데이터분석처럼 해볼까요?\n",
        "\n",
        "위에서 만든 종가리스트에서 최고가를 뽑아보세요\n",
        "\n",
        "(리스트에서 최댓값을 찾는 함수는 max() 입니다)"
      ],
      "metadata": {
        "id": "Qh9r8-QQ4YD4"
      }
    },
    {
      "cell_type": "code",
      "source": [],
      "metadata": {
        "id": "5RnDPxFR4bux"
      },
      "execution_count": null,
      "outputs": []
    },
    {
      "cell_type": "markdown",
      "source": [
        "위에서 만든 종가리스트에서 최저가를 뽑아보세요\n",
        "\n",
        "(리스트에서 최솟값을 찾는 함수는 min() 입니다)"
      ],
      "metadata": {
        "id": "J74hoDmm4Y8B"
      }
    },
    {
      "cell_type": "code",
      "execution_count": null,
      "metadata": {
        "id": "7i_Lh2YkzzIc"
      },
      "outputs": [],
      "source": []
    }
  ],
  "metadata": {
    "colab": {
      "provenance": []
    },
    "kernelspec": {
      "display_name": "dip",
      "language": "python",
      "name": "dip"
    },
    "language_info": {
      "codemirror_mode": {
        "name": "ipython",
        "version": 3
      },
      "file_extension": ".py",
      "mimetype": "text/x-python",
      "name": "python",
      "nbconvert_exporter": "python",
      "pygments_lexer": "ipython3",
      "version": "3.11.0"
    }
  },
  "nbformat": 4,
  "nbformat_minor": 0
}