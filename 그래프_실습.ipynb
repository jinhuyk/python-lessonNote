{
  "cells": [
    {
      "attachments": {},
      "cell_type": "markdown",
      "metadata": {
        "id": "UuwqnkNthlXJ"
      },
      "source": [
        "## **MatplotLib-실습**\n",
        "배워볼 내용\n",
        "*   그래프\n"
      ]
    },
    {
      "attachments": {},
      "cell_type": "markdown",
      "metadata": {},
      "source": [
        "## matplotLib\n",
        "\n",
        "matplotlib 는 내장 파이썬 패키지가 아닙니다. 즉 외부에서 가져와야하는 패키지 입니다. <br>\n",
        "가장먼저 가상환경에 matplotlib 가 설치 되어있는지 확인해봅니다!, 없다면 직접 conda install matplotlib를 입력하여 설치해줍시다.\n",
        "<br><br>\n",
        "이중에서 저희는 그래프그를 그릴 pyplot을 사용해볼건데요, 다음 문구를 이용하여 matplotlib의 pyplot이라는 서브 패키지를 가져와봅시다."
      ]
    },
    {
      "cell_type": "code",
      "execution_count": null,
      "metadata": {},
      "outputs": [],
      "source": [
        "import matplotlib.pyplot as plt # as 는 다음 명령어를 부를 호칭을 말합니다. 너무 이름이 긴 패키지 같은 경우 다음처럼 축약하는 경우가 많습니다.\n",
        "%matplotlib inline"
      ]
    },
    {
      "attachments": {},
      "cell_type": "markdown",
      "metadata": {},
      "source": [
        "%matplotlib inline은 해당 시각화 자료를 jupyter 내에 출력하겠다는 의미 입니다. "
      ]
    },
    {
      "attachments": {},
      "cell_type": "markdown",
      "metadata": {},
      "source": [
        "한번 바로 그래프를 그려봅시다. 다음 예시를 보고 어떻게 출력이 되는지 확인해보세요."
      ]
    },
    {
      "cell_type": "code",
      "execution_count": null,
      "metadata": {},
      "outputs": [],
      "source": [
        "plt.title(\"plot\")\n",
        "plt.plot([1,2,3,4,5,6,7,8])\n",
        "plt.show()"
      ]
    },
    {
      "attachments": {},
      "cell_type": "markdown",
      "metadata": {},
      "source": [
        "첫 그래프를 그려보았습니다. plot 안에는 다양한 인자를 넣을수 있는데 현재처럼 하나의 리스트 자료만 있다면 이를 y축으로 인식하고, x축은 0부터 정수개로 할당하게 됩니다."
      ]
    },
    {
      "attachments": {},
      "cell_type": "markdown",
      "metadata": {},
      "source": [
        "이번엔 x축을 지정해보겠습니다. 다음 코드를 실행시켜보세요"
      ]
    },
    {
      "cell_type": "code",
      "execution_count": null,
      "metadata": {},
      "outputs": [],
      "source": [
        "plt.title(\"plot\")\n",
        "plt.plot([100,200,300,400,500,600,700,800],[1,2,3,4,5,6,7,8])\n",
        "plt.show()"
      ]
    },
    {
      "attachments": {},
      "cell_type": "markdown",
      "metadata": {},
      "source": [
        "x축이 우리가 지정해준 값으로 변한 것을 알수있습니다."
      ]
    },
    {
      "attachments": {},
      "cell_type": "markdown",
      "metadata": {},
      "source": [
        "그런데 지금 보면 파란색 그래프는 너무 단조로워 보입니다. 그래서 한번 스타일을 변경해보겠습니다."
      ]
    },
    {
      "cell_type": "code",
      "execution_count": null,
      "metadata": {},
      "outputs": [],
      "source": [
        "plt.title(\"plot\")\n",
        "plt.plot([100,200,300,400,500,600,700,800],[1,2,3,4,5,6,7,8],\"rs--\")\n",
        "plt.show()"
      ]
    },
    {
      "attachments": {},
      "cell_type": "markdown",
      "metadata": {},
      "source": [
        "plot 안에 \"rs--\" 만 추가했더니, 빨간색의 square dot 그래프가 그려졌습니다.<br>\n",
        "r은 색을 그다음엔 해당 점의 모양을, 그리고 그래프가 점선인지 나타내는 기호 같네요, ppt 에서 정리된 내용을 봅시다"
      ]
    },
    {
      "cell_type": "code",
      "execution_count": null,
      "metadata": {},
      "outputs": [],
      "source": [
        "plt.title(\"plot\")\n",
        "plt.plot([100,200,300,400,500,600,700,800],[1,2,3,4,5,6,7,8],\"g.-.\")\n",
        "plt.show()"
      ]
    },
    {
      "attachments": {},
      "cell_type": "markdown",
      "metadata": {},
      "source": [
        "이번엔 x축과 y축을 지정해볼까요?\n",
        "x축과 y축은 xlim, ylim 명령어를 통해 이용할수 있습니다."
      ]
    },
    {
      "cell_type": "code",
      "execution_count": null,
      "metadata": {},
      "outputs": [],
      "source": [
        "plt.title(\"plot\")\n",
        "plt.plot([100,200,300,400,500,600,700,800],[1,2,3,4,5,6,7,8],\"rs--\")\n",
        "plt.xlim(200,500)\n",
        "plt.ylim(0,20)\n",
        "plt.show()"
      ]
    },
    {
      "attachments": {},
      "cell_type": "markdown",
      "metadata": {},
      "source": [
        "이번엔 그래프의 격자를 나타내고 싶습니다. 그럴때에는 grid()를 사용하면됩니다."
      ]
    },
    {
      "cell_type": "code",
      "execution_count": null,
      "metadata": {},
      "outputs": [],
      "source": [
        "plt.title(\"plot\")\n",
        "plt.plot([100,200,300,400,500,600,700,800],[1,2,3,4,5,6,7,8],\"rs--\")\n",
        "plt.xlim(200,500)\n",
        "plt.ylim(0,20)\n",
        "plt.grid(True)\n",
        "plt.show()"
      ]
    },
    {
      "attachments": {},
      "cell_type": "markdown",
      "metadata": {},
      "source": [
        "꼭 리스트를 안넣어도 함수를 넣어서 계산을 해볼수도 있습니다.<br>\n",
        "이번엔 numpy라는 수학 패키지에서 몇가지 함수를 가져와서 사용해보려고 합니다."
      ]
    },
    {
      "cell_type": "code",
      "execution_count": null,
      "metadata": {},
      "outputs": [],
      "source": [
        "import numpy as np"
      ]
    },
    {
      "attachments": {},
      "cell_type": "markdown",
      "metadata": {},
      "source": [
        "numpy를 이용하면 다양한 기능을 사용할 수 있습니다.\n",
        "\n",
        "예를 들어 파이 (3.14159..) , sin(x), cos(x) 등 다양한 수학 함수, 변수, 기능 들을 사용할 수 있습니다.\n",
        "\n",
        "cosine 그래프를 그려볼까요?"
      ]
    },
    {
      "cell_type": "code",
      "execution_count": null,
      "metadata": {},
      "outputs": [],
      "source": [
        "x = np.linspace(0,2*np.pi,100)\n",
        "y = np.cos(x)\n",
        "plt.plot(x,y,'r--')\n",
        "plt.show()"
      ]
    },
    {
      "cell_type": "code",
      "execution_count": null,
      "metadata": {},
      "outputs": [],
      "source": [
        "x = np.linspace(-50,50,100)\n",
        "y = x**5- x**3 + 1\n",
        "plt.plot(x,y,'r--')\n",
        "plt.show()"
      ]
    },
    {
      "attachments": {},
      "cell_type": "markdown",
      "metadata": {},
      "source": [
        "지금까지 그래프를 그리는 다앙향 방법을 알아보았습니다.<br>\n",
        "이번에는 여러개의 그래프를 나타내어봅시다."
      ]
    },
    {
      "cell_type": "code",
      "execution_count": null,
      "metadata": {},
      "outputs": [],
      "source": [
        "plt.title(\"plot\")\n",
        "plt.plot([100,200,300,400,500,600,700,800],[1,2,3,4,5,6,7,8],\"g.-.\")\n",
        "plt.plot([100,200,300,400,500,600,700,800],[5,2,3,6,5,6,2,8],\"r.-.\")\n",
        "plt.plot([100,200,300,400,500,600,700,800],[5,-2,3,2,5,6,2,1],\"b.--\")\n",
        "plt.show()"
      ]
    },
    {
      "attachments": {},
      "cell_type": "markdown",
      "metadata": {},
      "source": [
        "그런데 지금 이렇게 그래프를 너무 많이 그리면 어떤 그래프가 무엇을 나타내는지 구별이 잘 가지 않습니다.<br>\n",
        "그래서 범례를 한번 정해봅시다."
      ]
    },
    {
      "cell_type": "code",
      "execution_count": null,
      "metadata": {},
      "outputs": [],
      "source": [
        "plt.title(\"plot\")\n",
        "plt.plot([100,200,300,400,500,600,700,800],[1,2,3,4,5,6,7,8],\"g.-.\", label=\"green\")\n",
        "plt.plot([100,200,300,400,500,600,700,800],[5,2,3,6,5,6,2,8],\"r.-.\", label = \" red\")\n",
        "plt.plot([100,200,300,400,500,600,700,800],[5,-2,3,2,5,6,2,1],\"b.--\", label= \"blue\")\n",
        "plt.legend(loc=2)\n",
        "plt.show()"
      ]
    },
    {
      "attachments": {},
      "cell_type": "markdown",
      "metadata": {},
      "source": [
        "마지막으로 x축과 y축의 이름도 지어봅시다."
      ]
    },
    {
      "cell_type": "code",
      "execution_count": null,
      "metadata": {},
      "outputs": [],
      "source": [
        "plt.title(\"plot\")\n",
        "plt.plot([100,200,300,400,500,600,700,800],[1,2,3,4,5,6,7,8],\"g.-.\", label=\"green\")\n",
        "plt.plot([100,200,300,400,500,600,700,800],[5,2,3,6,5,6,2,8],\"r.-.\", label = \" red\")\n",
        "plt.plot([100,200,300,400,500,600,700,800],[5,-2,3,2,5,6,2,1],\"b.--\", label= \"blue\")\n",
        "plt.legend(loc=2)\n",
        "plt.xlabel(\"x\")\n",
        "plt.ylabel(\"ylabel\")\n",
        "plt.show()"
      ]
    },
    {
      "attachments": {},
      "cell_type": "markdown",
      "metadata": {},
      "source": [
        "## 실습 1.\n",
        "\n",
        "np.cos(x), np.sin(x), np.tan(x) 함수를 그래프에 표현해봅시다.\n",
        "<br>\n",
        "- 조건 1 : x는 np.linspace() 를 이용하여 -np.pi 부터 np.pi 까지 넣어주기\n",
        "- 조건 2 : 3개의 그래프를 하나의 plot으로 표현하기\n",
        "- 조건 3 : cos(x) 는 빨간색 solid (-) , sin(x) 는 파란색 dashed (--) , tan(x) 는 초록색 dotted(:) 로 표시하기\n",
        "- 조건 4 : 범례 만들기\n",
        "- 추가 조건 1: x,y축 label 지정해주기\n",
        "- 추가 조건 2: plot의 제목을 math function 으로 짓기\n",
        "\n"
      ]
    },
    {
      "cell_type": "code",
      "execution_count": null,
      "metadata": {},
      "outputs": [],
      "source": []
    },
    {
      "attachments": {},
      "cell_type": "markdown",
      "metadata": {},
      "source": [
        "이번엔 하나의 이미지 안에 여러개의 plot을 나타내어보겠습니다.\n",
        "<br>\n",
        "subplot 이라는 함수를 사용하는데요 만약 안에 221 이란 숫자를 넣으면 2x2 칸을 만들고 왼쪽 위부터 오른쪽 아래로 순서대로 카운트 하면서 그래프를 나타냅니다."
      ]
    },
    {
      "cell_type": "code",
      "execution_count": null,
      "metadata": {},
      "outputs": [],
      "source": [
        "np.random.seed(0)\n",
        "\n",
        "plt.subplot(221)\n",
        "plt.plot(np.random.rand(5))\n",
        "plt.title(\"1\")\n",
        "\n",
        "plt.subplot(222)\n",
        "plt.plot(np.random.rand(5))\n",
        "plt.title(\"2\")\n",
        "\n",
        "plt.subplot(223)\n",
        "plt.plot(np.random.rand(5))\n",
        "plt.title(\"3\")\n",
        "\n",
        "plt.subplot(224)\n",
        "plt.plot(np.random.rand(5))\n",
        "plt.title(\"4\")\n",
        "\n",
        "plt.tight_layout() # 자동 칸 조정\n",
        "plt.show()"
      ]
    },
    {
      "attachments": {},
      "cell_type": "markdown",
      "metadata": {},
      "source": [
        "## 실습 2.\n",
        "\n",
        "np.cos(x), np.sin(x), np.tan(x) 함수를 하나의 이미지 안에 3개의 그래프로 그려봅시다.\n",
        "<br>\n",
        "- 조건 1 : x는 np.linspace() 를 이용하여 -np.pi 부터 np.pi 까지 넣어주기\n",
        "- 조건 2 : 3개의 그래프를 각각의 plot에 그리기 \n",
        "- 조건 3 : cos(x) 는 빨간색 solid (-) , sin(x) 는 파란색 dashed (--) , tan(x) 는 초록색 dotted(:) 로 표시하기\n",
        "- 조건 4 : subplot 을 이용하여 만들기 -> 가로로 3개 나열할것.\n",
        "\n"
      ]
    },
    {
      "cell_type": "code",
      "execution_count": null,
      "metadata": {},
      "outputs": [],
      "source": []
    },
    {
      "attachments": {},
      "cell_type": "markdown",
      "metadata": {},
      "source": [
        "이 외에도 다양한 그래프 예시들이 있습니다."
      ]
    },
    {
      "cell_type": "code",
      "execution_count": null,
      "metadata": {},
      "outputs": [],
      "source": [
        "x = np.linspace(0.1, 2 * np.pi, 10)\n",
        "plt.title(\"Stem Plot\")\n",
        "plt.stem(x, np.cos(x), '-.')\n",
        "plt.show()"
      ]
    },
    {
      "cell_type": "code",
      "execution_count": null,
      "metadata": {},
      "outputs": [],
      "source": [
        "np.random.seed(0)\n",
        "x = np.random.randn(1000)\n",
        "plt.title(\"Histogram\")\n",
        "arrays, bins, patches = plt.hist(x, bins=10)\n",
        "plt.show()"
      ]
    },
    {
      "cell_type": "code",
      "execution_count": null,
      "metadata": {},
      "outputs": [],
      "source": [
        "np.random.seed(0)\n",
        "X = np.random.normal(0, 1, 100)\n",
        "Y = np.random.normal(0, 1, 100)\n",
        "plt.title(\"Scatter Plot\")\n",
        "plt.scatter(X, Y)\n",
        "plt.show()"
      ]
    },
    {
      "cell_type": "code",
      "execution_count": null,
      "metadata": {},
      "outputs": [],
      "source": [
        "N = 30\n",
        "np.random.seed(0)\n",
        "x = np.random.rand(N)\n",
        "y1 = np.random.rand(N)\n",
        "y2 = np.random.rand(N)\n",
        "y3 = np.pi * (15 * np.random.rand(N))**2\n",
        "plt.title(\"Bubble Chart\")\n",
        "plt.scatter(x, y1, c=y2, s=y3)\n",
        "plt.show()"
      ]
    }
  ],
  "metadata": {
    "colab": {
      "provenance": []
    },
    "kernelspec": {
      "display_name": "Python 3",
      "name": "python3"
    },
    "language_info": {
      "codemirror_mode": {
        "name": "ipython",
        "version": 3
      },
      "file_extension": ".py",
      "mimetype": "text/x-python",
      "name": "python",
      "nbconvert_exporter": "python",
      "pygments_lexer": "ipython3",
      "version": "3.11.0"
    }
  },
  "nbformat": 4,
  "nbformat_minor": 0
}
