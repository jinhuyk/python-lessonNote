{
  "cells": [
    {
      "attachments": {},
      "cell_type": "markdown",
      "metadata": {
        "id": "UuwqnkNthlXJ"
      },
      "source": [
        "## **5차시-실습**\n",
        "배워볼 내용\n",
        "*   반복문\n"
      ]
    },
    {
      "cell_type": "code",
      "execution_count": 1,
      "metadata": {
        "id": "FTKr661LhRhD"
      },
      "outputs": [],
      "source": [
        "### 지금까지 입력, 출력, 연산자, 조건문에 대해 배워보았습니다\n",
        "# 이제 반복문에 대해 배워볼것 입니다\n",
        "# 반복문은 말그대로 반복해서 어떤 코드를 실행하는 것입니다"
      ]
    },
    {
      "cell_type": "code",
      "execution_count": null,
      "metadata": {
        "id": "kHqhUBO_hv7p"
      },
      "outputs": [],
      "source": [
        "### for 문 알아보기\n",
        "\n",
        "# for문은 반복문에서 가장 많이 사용되는 것입니다\n",
        "# 사용 방법은 다음과 같습니다\n",
        "\n",
        "for i in range(10):\n",
        "  print(i)\n"
      ]
    },
    {
      "cell_type": "code",
      "execution_count": 3,
      "metadata": {
        "id": "nKfsNxrwiJbK"
      },
      "outputs": [],
      "source": [
        "### for문에는 range라는 것이 많이 사용됩니다, 해석하면 범위와 같죠?\n",
        "\n",
        "# range(숫자) 라고 하면 0부터 9까지 i에 담는 것이라고 생각하면 됩니다\n",
        "\n",
        "# 흐름을 알아보면\n",
        "\n",
        "# i = 0 print(i)\n",
        "# i = 1 print(i)\n",
        "# i = 2 print(i)\n",
        "# ...\n",
        "# i = 9 print(i)\n",
        "\n",
        "# 와 같습니다"
      ]
    },
    {
      "cell_type": "code",
      "execution_count": 4,
      "metadata": {
        "id": "GPUIcEQRimWY"
      },
      "outputs": [],
      "source": [
        "### 반복문은 왜 사용할까요? 똑같은 코드를 단축해주기 위해서 입니다\n",
        "\n",
        "# range()에 대해 더 알아보겠습니다"
      ]
    },
    {
      "cell_type": "code",
      "execution_count": null,
      "metadata": {
        "id": "-m3O8mILi4AF"
      },
      "outputs": [],
      "source": [
        "### range\n",
        "# range(a,b) 라고 표현을 하면 어디부터 어디일까요? 실행을 통해 알아봅시다\n",
        "\n",
        "for i in range(1,10):\n",
        "  print(i)"
      ]
    },
    {
      "cell_type": "code",
      "execution_count": null,
      "metadata": {
        "id": "bGLzcNXBjJHF"
      },
      "outputs": [],
      "source": [
        "# range(a,b,c) 는 어떻게 작동될까요?\n",
        "\n",
        "for i in range(1,10,2):\n",
        "  print(i)"
      ]
    },
    {
      "cell_type": "code",
      "execution_count": 7,
      "metadata": {
        "id": "85RGzNQ-jRYw"
      },
      "outputs": [],
      "source": [
        "# 이를 이용하면 다양하게 반복문을 작동 시킬 수 있습니다"
      ]
    },
    {
      "cell_type": "code",
      "execution_count": null,
      "metadata": {
        "id": "ut45wAnIjbSb"
      },
      "outputs": [],
      "source": [
        "### for문 안에 for문도 실행시킬수 있습니다\n",
        "\n",
        "for i in range(1,4):\n",
        "  for j in range(10):\n",
        "    print(i,\"X\",j,\"=\",i*j)\n"
      ]
    },
    {
      "cell_type": "code",
      "execution_count": null,
      "metadata": {
        "id": "COK8keauj3I1"
      },
      "outputs": [],
      "source": [
        "### While 문 알아보기\n",
        "\n",
        "# While 문은 for문과 마찬가지로 많이 사용이 됩니다 \n",
        "# While문은 다음처럼 사용됩니다\n",
        "\n",
        "i = 1\n",
        "\n",
        "while i < 10:\n",
        "  print(i)\n",
        "  i+=1\n",
        "\n",
        "# 다음 코드는 어떤 과정을 거칠지 생각을 해봅시다"
      ]
    },
    {
      "cell_type": "code",
      "execution_count": null,
      "metadata": {
        "id": "dbewaXO1kl7U"
      },
      "outputs": [],
      "source": [
        "# while 은 조건을 이용해서 사용이 되네요!\n",
        "\n",
        "# while을 이용하면 무한 루프 도 만들수 있습니다 \n",
        "\n",
        "while True:\n",
        "  print(\"무한루프\")\n",
        "\n"
      ]
    },
    {
      "cell_type": "code",
      "execution_count": null,
      "metadata": {
        "id": "syiYY9Q0lihV"
      },
      "outputs": [],
      "source": [
        "# 그런데 이런 for문이나 while문은 조건을 모두 만족해야지만 끝낼수 있을까요? \n",
        "# 아닙니다 break을 이용하여 조건을 달성안해도 빠져나올 수 있습니다\n",
        "\n",
        "i = 1\n",
        "while True:\n",
        "  if(i > 10): break\n",
        "  print(i)\n",
        "  i+=1\n"
      ]
    },
    {
      "cell_type": "code",
      "execution_count": null,
      "metadata": {
        "id": "ch5b_co_l2c7"
      },
      "outputs": [],
      "source": [
        "# 또한 다른 코드의 실행없이 바로 다음 루프로 넘겨버리는 continue도 존재합니다\n",
        "\n",
        "i = 1\n",
        "while True:\n",
        "  if(i > 10 ): break\n",
        "  if(i % 2 == 0):\n",
        "    continue\n",
        "  else:\n",
        "    print(i)\n",
        "  i+=1\n"
      ]
    },
    {
      "cell_type": "code",
      "execution_count": null,
      "metadata": {
        "id": "De8x4Hd6mJS0"
      },
      "outputs": [],
      "source": [
        "## 물론 for문에서도 사용이 가능합니다!"
      ]
    },
    {
      "cell_type": "code",
      "execution_count": null,
      "metadata": {},
      "outputs": [],
      "source": [
        "List1 = [1,2,3,4,5,6,7,8,9,10]\n",
        "for i in List1:\n",
        "    print(i)\n"
      ]
    },
    {
      "attachments": {},
      "cell_type": "markdown",
      "metadata": {
        "id": "0FgVt7MAnU3Q"
      },
      "source": [
        "## **5차시- 연습창**"
      ]
    },
    {
      "cell_type": "code",
      "execution_count": null,
      "metadata": {
        "id": "972NqdrmnYPQ"
      },
      "outputs": [],
      "source": []
    },
    {
      "attachments": {},
      "cell_type": "markdown",
      "metadata": {
        "id": "MSp-m_NxmRLZ"
      },
      "source": [
        "## **5차시-실습창**"
      ]
    },
    {
      "cell_type": "code",
      "execution_count": null,
      "metadata": {},
      "outputs": [],
      "source": [
        "# for 문 하기 전에 if 문 한번 다시 복습 해볼까요?\n",
        "\n",
        "# if를 이용하여 입력한 숫자가 5 이상이면 A를 출력, 3이상 5미만면 B 출럭, 1이상 3미만이면 C를 출력, 나머지는 F를 출력해보세요"
      ]
    },
    {
      "cell_type": "code",
      "execution_count": null,
      "metadata": {},
      "outputs": [],
      "source": [
        "# 다음 실습 그림처럼 별을 출력해보세요 print(\"*\"*10)을 사용해보기"
      ]
    },
    {
      "cell_type": "code",
      "execution_count": null,
      "metadata": {},
      "outputs": [],
      "source": [
        "mul = [1,2,3,4,5,6,7,8,9,10]\n",
        "list1 = [1,2,3,4,5,6,7,8,9,10]\n",
        "\n",
        "# 두 리스트에서 같은 인덱스에 있는 값을 곱해주세요"
      ]
    },
    {
      "cell_type": "code",
      "execution_count": null,
      "metadata": {},
      "outputs": [],
      "source": [
        "a1 = [90, 85, 95, 80, 90, 100, 85, 75, 85, 80]\n",
        "a2 = [95, 90, 90, 90, 95, 100, 90, 80, 95, 90]\n",
        "\n",
        "#다음은 학생 1과 학생 2의 성적을 리스트로 만든 것입니다.\n",
        "\n",
        "# 각 학생의 평균 점수를 구해볼까요\n",
        "\n",
        "# 각 시험마다 더 잘본 학생의 점수를 출력해보세요\n",
        "\n"
      ]
    },
    {
      "cell_type": "code",
      "execution_count": null,
      "metadata": {},
      "outputs": [],
      "source": [
        "# 어떤 학생이 5개의 과목을 수강하여 다음과 같은 성적(grade)을 받았다. (4점이 만점)\n",
        "\n",
        "# 𝑋=4,3,2,3,4\n",
        "# 이 5개 과목의 이수 학점(credit hours)은 각각 다음과 같다.\n",
        "\n",
        "# 𝑊=3,3,1,2,2\n",
        "# 이 때 평균 평점(GPA)은 성적의 단순 평균이 아니라 이수 학점을 가중치(weight)로 써서 다음과 같이 가중 평균을 구해야 한다.\n",
        "\n",
        "#이 학생의 평균 평점을 구하는 코드를 작성해보세요.\n",
        "\n"
      ]
    },
    {
      "cell_type": "code",
      "execution_count": null,
      "metadata": {},
      "outputs": [],
      "source": [
        "# 자료의 분산(Variance)는 각 자료 값에서 자료의 평균값을 뺀 나머지를 제곱한 값의 평균을 말한다. 예를 들어 자료가 다음과 같다고 하자\n",
        "\n",
        "# 𝑋=6,5,4,7,3,5\n",
        "\n",
        "# 다음 자료의 분산을 구해보세요\n"
      ]
    }
  ],
  "metadata": {
    "colab": {
      "provenance": []
    },
    "kernelspec": {
      "display_name": "Python 3",
      "name": "python3"
    },
    "language_info": {
      "name": "python"
    }
  },
  "nbformat": 4,
  "nbformat_minor": 0
}
