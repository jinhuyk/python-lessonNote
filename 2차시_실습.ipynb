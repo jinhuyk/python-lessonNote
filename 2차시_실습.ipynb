{
  "cells": [
    {
      "cell_type": "code",
      "execution_count": null,
      "metadata": {
        "id": "LCv7hxwKP19g"
      },
      "outputs": [],
      "source": [
        "### written by Jinhuyk. Mun ###"
      ]
    },
    {
      "cell_type": "code",
      "execution_count": null,
      "metadata": {
        "id": "7YAEmzV6NjCP"
      },
      "outputs": [],
      "source": [
        "#############\n",
        "hello = '저장이 잘못된것 같습니다'\n",
        "변수3 = '저장이 잘못된것 같습니다'\n",
        "입력변수 ='저장이 잘못된것 같습니다 (input())사용해보세요'"
      ]
    },
    {
      "cell_type": "markdown",
      "metadata": {
        "id": "o_i3fdKTJ7gN"
      },
      "source": [
        "## **2차시-실습**\n",
        "배워볼 내용\n",
        "*   주석\n",
        "*   입력\n",
        "*   출력\n",
        "*   변수\n",
        "*   List\n",
        "\n"
      ]
    },
    {
      "cell_type": "markdown",
      "metadata": {
        "id": "Kp08iqsqHgdz"
      },
      "source": [
        "### 주석\n",
        "주석은 ('#') 표시를 이용하여 합니다, 초록색 글씨라면 컴퓨터는 이 주석은 자동으로 넘어갑니다"
      ]
    },
    {
      "cell_type": "markdown",
      "metadata": {
        "id": "QxVW2aXwzzIT"
      },
      "source": [
        "### 출력\n",
        "\n",
        "출력은 결과 창에 어떠한 것을 출력하는 것과 같습니다.\n",
        "출력은 'print('***')' 를 이용합니다, 특징이라면? 다른 언어 (C , Java 등 )과 달리 ; (세미콜론) 을 붙이지 않습니다\n",
        "\n",
        "print를 사용하다보면 쉼표를 볼 수 있습니다.\n",
        "쉼표의 의미는 무엇일까요?\n",
        "아래 실습에서 확인해봅시다.\n",
        "\n",
        "또한 똑같은 문구를 반복하여 출력도 할 수 있습니다\n",
        "아래 실습에서 확인해봅시다."
      ]
    },
    {
      "cell_type": "code",
      "execution_count": null,
      "metadata": {
        "id": "Jv8Gsh17IUgc",
        "outputId": "67e9f8a4-e88f-4140-a82a-3328af418d22"
      },
      "outputs": [
        {
          "name": "stdout",
          "output_type": "stream",
          "text": [
            "hello World!\n",
            "3\n",
            "123456\n",
            "123456 7 8 9 10\n",
            "Helloworld\n",
            "Helloworld\n",
            "Helloworld\n",
            "Helloworld\n",
            "Helloworld\n",
            "Helloworld\n",
            "Helloworld\n",
            "Helloworld\n",
            "Helloworld\n",
            "Helloworld\n",
            "\n"
          ]
        }
      ],
      "source": [
        "print('hello World!')\n",
        "print(3)\n",
        "print(\"123456\")\n",
        "\n",
        "\n",
        "a = 7\n",
        "b = 8\n",
        "c = 9\n",
        "print(\"123456\",a,b,c,\"10\")\n",
        "print(\"Helloworld\\n\" * 10)"
      ]
    },
    {
      "cell_type": "code",
      "execution_count": null,
      "metadata": {
        "id": "C1Ro2oubIoJv"
      },
      "outputs": [],
      "source": [
        "### 입력\n",
        "# 입력은 '변수 = input()' 를 이용합니다\n",
        "변수 = input()\n",
        "# print() 를 사용하여 해당 변수에 입력한 값을 출력할 수 있습니다\n",
        "print(변수)\n",
        "\n",
        "# input()은 종종 input(\"입력 유도 문장\") 으로도 사용할 수 있습니다\n",
        "변수2 = input(\"변수2를 입력해주세요\")\n",
        "\n",
        "print(변수2)"
      ]
    },
    {
      "cell_type": "code",
      "execution_count": null,
      "metadata": {
        "id": "djzDtDE-Ky8N"
      },
      "outputs": [],
      "source": [
        "### 변수\n",
        "# 변수는 어떠한 값을 담아두는 바구니 같은 공간입니다, 변수 안에 값을 넣으면? 필요할때마다 그 값을 부를 수도 있고, 변수의 값을 바꿀수도 있습니다\n",
        "# 변수는 약간의 규칙이 있습니다\n",
        "# python에서 사용하는 함수( print, input, if, 등등.. )은 사용 불가능입니다, 컴퓨터가 해석하지 못합니다\n",
        "# 숫자가 먼저 와도 해석을 못합니다\n",
        "\n",
        "변수 = 3 #변수에 3이란 값을 넣었습니다\n",
        "a = 777 #변수 a 에 777 이란 값을 넣었습니다\n",
        "b = 'hello' #변수에 'hello'라는 문자열을 넣었습니다\n",
        "c = [1,2,3] #곧 배우겠지만 c에 리스트 형태의 무언가를 넣었습니다\n",
        "\n",
        "# 한번 출력를 해보면 우리가 넣은 것 그대로 나올수 있습니다\n",
        "# 그런데 출력은 어떻게 했었죠..? -> 실습으로 해봅시다"
      ]
    },
    {
      "cell_type": "code",
      "execution_count": null,
      "metadata": {
        "id": "hB7OXGRFzzIW"
      },
      "outputs": [],
      "source": [
        "### 자료형\n",
        "# 프로그래밍을 하다보면 다양한 자료형을 가지고 자신이 원하는 프로그램을 만들 수 있습니다 (분석도 마찬가지 이고요...)\n",
        "# ppt 에서 간단히 알아보았는데요, 한번 간단히 실습해봅시다.\n",
        "\n",
        "#List 자료형\n",
        "# 하나의 이름으로 여러개의 변수들을 담을 수 있는 가장 대표적인 자료형입니다.\n",
        "\n",
        "학과 = [\"컴퓨터 공학과\", \"기계 공학과\", \"화학 공학과\", \"전기전자공학과\"]\n",
        "주식가격 = [3000,3010,3008,3000,2999]\n",
        "\n",
        "# 이런식으로 데이터들을 원하는 이름으로 묶어서 저장할 수 있습니다. 이 데이터를 뽑아 내는 방법은 다양합니다 (나중에 반복문에서도 사용)\n",
        "# 어떤 List의 특정 값을 뽑고 싶다면 다음처럼 할 수 있습니다.\n",
        "print(학과[0])\n",
        "print(주식가격[1])\n",
        "\n",
        "# List는 자료분석에서도 아주 많이 사용되는 중요한 형태입니다\n",
        "# 한번 List 자료를 뽑아보는 더 많은 방법을 알아볼까요? (한번 유주해보세요)\n",
        "List1 = [0,1,2,3,4,5]\n",
        "\n",
        "print(List1[-1])\n",
        "print(List1[4])\n",
        "\n",
        "# 또 List는 특정 구간을 뽑아낼 수도 있습니다.\n",
        "Top7 = [\"c\",\"c++\",\"java\",\"python\",\"js\",\"ruby\",\"c#\"]\n",
        "# 다음은 Top7이라는 List 입니다. 여기서 상위 3개만 뽑아내려면 어떻게 해야할까요?\n",
        "\n",
        "Top3 = Top7[0:3]\n",
        "print(Top3)\n",
        "\n",
        "# 이번엔 List에 새로 자료를 추가해봅시다.\n",
        "# 위에서 만든 List1 에서 6이란 값을 추가해볼게요\n",
        "\n",
        "List1.append(6)\n",
        "print(List1)\n",
        "\n",
        "# 이번엔 원하는 위치에 값을 추가해볼까요?\n",
        "\n",
        "List1.insert(0,-1)\n",
        "print(List1)\n",
        "\n",
        "# List 내의 데이터가 몇개있는지도 알아볼까요?\n",
        "print(len(List1))\n",
        "\n",
        "# 마지막으로 자료를 삭제 해보겠습니다\n",
        "del List1[0]\n",
        "print(List1)\n",
        "\n",
        "# 지금까지 가장 많이 사용하는 List를 알아보았습니다.\n",
        "# 다른 자료구조는 뒤에 tuple, dic 도 나오게 됩니다.\n"
      ]
    },
    {
      "cell_type": "code",
      "execution_count": null,
      "metadata": {
        "id": "C8K10xrXLzE5"
      },
      "outputs": [],
      "source": [
        "### 여기까지 출력과 입력 그리고 변수, 자료형에 대해 알아보았습니다 생각보다 어렵지 않죠?\n",
        "# 하나 알아야할 점은 이 네모상자 즉 shell 이라고 불리는것은 한 블럭 단위로 움직이지만\n",
        "# 변수는 모든 블럭에서 사용 됩니다, 즉 다른 블럭이라고 변수를 혼동해서 사용하면 안됩니다"
      ]
    },
    {
      "cell_type": "markdown",
      "metadata": {
        "id": "a0yAwneVOpco"
      },
      "source": [
        "## **연습해보기**"
      ]
    },
    {
      "cell_type": "code",
      "execution_count": null,
      "metadata": {
        "id": "6Q-IFu_jOoDS"
      },
      "outputs": [],
      "source": []
    },
    {
      "cell_type": "markdown",
      "metadata": {
        "id": "L8KFM6ihMiDI"
      },
      "source": [
        "## **2차시 실습창**\n",
        "\n",
        "\n",
        "\n"
      ]
    },
    {
      "cell_type": "code",
      "execution_count": null,
      "metadata": {
        "id": "Kb0p4CERL4qd"
      },
      "outputs": [],
      "source": [
        "### 다음 밑의 주석처럼 출력해봅시다\n",
        "\n",
        "# '안녕하세요 저는 파이썬을 배우고 있습니다'\n",
        "# '제 이름은 OOO 입니다'\n",
        "# '오늘의 날짜는 OO월 OO일 입니다'"
      ]
    },
    {
      "cell_type": "code",
      "execution_count": null,
      "metadata": {
        "id": "pZ8dcn-7OmDd"
      },
      "outputs": [],
      "source": []
    },
    {
      "cell_type": "code",
      "execution_count": null,
      "metadata": {
        "id": "ye2dFKVdM8eJ"
      },
      "outputs": [],
      "source": [
        "### 다음 밑의 주석처럼 해봅시다\n",
        "\n",
        "# 다음 변수 hello에 'world'라는 문자를 저장해봅시다\n",
        "# 다음 변수 변수3에 '12345'라는 숫자를 저장해봅시다\n",
        "# 다음 변수 입력변수에 input()를 연결해보고, 실행시켜서 '안녕하세요' 라는 문자열을 입력해봅시다\n",
        "\n",
        "### 이 다음 블럭을 실행시켜서 제대로 넣은 값이 나오는지 확인해봅시다"
      ]
    },
    {
      "cell_type": "code",
      "execution_count": null,
      "metadata": {
        "id": "PVSB1Lc0OmlJ"
      },
      "outputs": [],
      "source": []
    },
    {
      "cell_type": "code",
      "execution_count": null,
      "metadata": {
        "id": "4pxXPtd7Ndj8"
      },
      "outputs": [],
      "source": [
        "print(hello)\n",
        "print(변수3)\n",
        "print(입력변수)"
      ]
    },
    {
      "cell_type": "code",
      "execution_count": null,
      "metadata": {
        "id": "i6aSthQ9NwUu"
      },
      "outputs": [],
      "source": [
        "### List 실습 문제"
      ]
    },
    {
      "cell_type": "code",
      "execution_count": null,
      "metadata": {
        "id": "8cDE0tYNzzIa"
      },
      "outputs": [],
      "source": [
        "# 어떤 주식의 종가는 다음과 같습니다.\n",
        "# 09/07의 종가를 리스트의 첫 번째 항목으로 입력해서 losing_price라는 이름의 리스트를 만들어보세요.\n",
        "\n",
        "# 날짜\t요일\t종가\n",
        "# 09/11\t금\t488,500\n",
        "# 09/10\t목\t500,500\n",
        "# 09/09\t수\t501,000\n",
        "# 09/08\t화\t461,500\n",
        "#09/07\t월\t474,500"
      ]
    },
    {
      "cell_type": "code",
      "execution_count": null,
      "metadata": {
        "id": "2K2T4oOyzzIa"
      },
      "outputs": [],
      "source": []
    },
    {
      "cell_type": "code",
      "execution_count": null,
      "metadata": {
        "id": "Yu8lizztOnO7"
      },
      "outputs": [],
      "source": [
        "# 다음 종가리스트의 마지막에 09/14 월 종가: 500,000 을 추가해보세요\n",
        "# 다음 종가리스트의 첫번째에 09/05 금 종가: 484,000 을 추가해보세요"
      ]
    },
    {
      "cell_type": "code",
      "execution_count": null,
      "metadata": {
        "id": "CeEJQ-XmzzIb"
      },
      "outputs": [],
      "source": []
    },
    {
      "cell_type": "code",
      "execution_count": null,
      "metadata": {
        "id": "8Es-oGSWzzIb"
      },
      "outputs": [],
      "source": [
        "# 다음 종가리스트에서 앞에서 3개의 데이터를 출력해봇요"
      ]
    },
    {
      "cell_type": "code",
      "execution_count": null,
      "metadata": {
        "id": "UX0WYAXozzIb"
      },
      "outputs": [],
      "source": []
    },
    {
      "cell_type": "code",
      "execution_count": null,
      "metadata": {
        "id": "9Qjni0_azzIb"
      },
      "outputs": [],
      "source": [
        "# 조금 데이터분석처럼 해볼까요?\n",
        "# 위에서 만든 종가리스트에서 최고가를 뽑아보세요\n",
        "# (리스트에서 최댓값을 찾는 함수는 max() 입니다)"
      ]
    },
    {
      "cell_type": "code",
      "execution_count": null,
      "metadata": {
        "id": "7i_Lh2YkzzIc"
      },
      "outputs": [],
      "source": []
    },
    {
      "cell_type": "code",
      "execution_count": null,
      "metadata": {
        "id": "i-r1kG81zzIc"
      },
      "outputs": [],
      "source": [
        "# 위에서 만든 종가리스트에서 최저가를 뽑아보세요\n",
        "# (리스트에서 최솟값을 찾는 함수는 min() 입니다)"
      ]
    }
  ],
  "metadata": {
    "colab": {
      "provenance": []
    },
    "kernelspec": {
      "display_name": "dip",
      "language": "python",
      "name": "dip"
    },
    "language_info": {
      "codemirror_mode": {
        "name": "ipython",
        "version": 3
      },
      "file_extension": ".py",
      "mimetype": "text/x-python",
      "name": "python",
      "nbconvert_exporter": "python",
      "pygments_lexer": "ipython3",
      "version": "3.11.0"
    }
  },
  "nbformat": 4,
  "nbformat_minor": 0
}