{
  "cells": [
    {
      "attachments": {},
      "cell_type": "markdown",
      "metadata": {
        "id": "UuwqnkNthlXJ"
      },
      "source": [
        "## **6차시-실습**\n",
        "배워볼 내용\n",
        "*   함수\n"
      ]
    },
    {
      "cell_type": "code",
      "execution_count": null,
      "metadata": {},
      "outputs": [],
      "source": [
        "# 함수를 직접 구현해봅시다.\n",
        "\n",
        "def function1(x):\n",
        "    print(x)"
      ]
    },
    {
      "cell_type": "code",
      "execution_count": null,
      "metadata": {},
      "outputs": [],
      "source": [
        "# 예제 1 \n",
        "def add(x,y):\n",
        "    return x+y"
      ]
    },
    {
      "cell_type": "code",
      "execution_count": null,
      "metadata": {},
      "outputs": [],
      "source": [
        "# 예제 2\n",
        "def star(x):\n",
        "    for i in range(1,x+1):\n",
        "        print(\"*\"*i)\n"
      ]
    },
    {
      "cell_type": "code",
      "execution_count": null,
      "metadata": {},
      "outputs": [],
      "source": [
        "# 예제 3\n",
        "\n",
        "def even(x):\n",
        "    if(x%2 == 0): return True\n",
        "    else: return False"
      ]
    },
    {
      "cell_type": "code",
      "execution_count": null,
      "metadata": {},
      "outputs": [],
      "source": [
        "# 지역변수와 전역변수\n",
        "\n",
        "x = 10\n",
        "\n",
        "def func():\n",
        "    y = 9\n",
        "\n",
        "print(y)"
      ]
    },
    {
      "cell_type": "code",
      "execution_count": null,
      "metadata": {},
      "outputs": [],
      "source": [
        "# 3가지의 함수 사용을 알아보았는데요, 사실 함수는 자신이 실행시키고 싶은  내용을 모두 구현할 수 있습니다.\n",
        "# 한번 실습을 해볼까요? 앞에서 배운 조건문과 반복문을 같이 연습해봅시다."
      ]
    },
    {
      "attachments": {},
      "cell_type": "markdown",
      "metadata": {
        "id": "MSp-m_NxmRLZ"
      },
      "source": [
        "## **6차시-실습창**"
      ]
    },
    {
      "cell_type": "code",
      "execution_count": null,
      "metadata": {},
      "outputs": [],
      "source": [
        "# 앞에서 for문 예제 에서 했던 것을 함수로 만들어봅시다.\n",
        "\n",
        "# list를 인자로 받으면 그 리스트의 평균을 구하는 함수를 만들어봅시다.\n",
        "list1 = [1,2,3,4,5,6,7,8,9]"
      ]
    },
    {
      "cell_type": "code",
      "execution_count": null,
      "metadata": {},
      "outputs": [],
      "source": [
        "# list를 인자로 받으면 최대값과 최소값의 차이를 구하는 함수를 만들어봅시다."
      ]
    },
    {
      "cell_type": "code",
      "execution_count": null,
      "metadata": {},
      "outputs": [],
      "source": [
        "# list를 인자로 받으면 분산을 계산하는 함수를 만들어봅시다."
      ]
    },
    {
      "cell_type": "code",
      "execution_count": null,
      "metadata": {},
      "outputs": [],
      "source": [
        "# 미니 자판기를 만들어봅시다. \n",
        "\n",
        "# 입력받은 인자가 1000 이면 콜라를 출력, 2000 이면 사이다를 출력, 3000 이면 주스를 출력, 4000 이면 커피를 출력, 그 외에는 비스킷을 출력해보세요 "
      ]
    }
  ],
  "metadata": {
    "colab": {
      "provenance": []
    },
    "kernelspec": {
      "display_name": "Python 3",
      "name": "python3"
    },
    "language_info": {
      "codemirror_mode": {
        "name": "ipython",
        "version": 3
      },
      "file_extension": ".py",
      "mimetype": "text/x-python",
      "name": "python",
      "nbconvert_exporter": "python",
      "pygments_lexer": "ipython3",
      "version": "3.11.0"
    }
  },
  "nbformat": 4,
  "nbformat_minor": 0
}
