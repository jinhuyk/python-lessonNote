{
  "cells": [
    {
      "cell_type": "code",
      "execution_count": null,
      "metadata": {
        "id": "LCv7hxwKP19g"
      },
      "outputs": [],
      "source": [
        "### written by Jinhuyk. Mun ###"
      ]
    },
    {
      "attachments": {},
      "cell_type": "markdown",
      "metadata": {
        "id": "o_i3fdKTJ7gN"
      },
      "source": [
        "## **3차시-실습**\n",
        "배워볼 내용\n",
        "*   Tuple\n",
        "*   Dictionary\n",
        "\n"
      ]
    },
    {
      "cell_type": "code",
      "execution_count": null,
      "metadata": {},
      "outputs": [],
      "source": [
        "### Tuple 자료형\n",
        "# Tuple은 List와 정말 비슷합니다, 하지만 하나 중요한 점이 있다면 수정을 할수 없다는 것입니다.\n",
        "\n",
        "성씨 = (\"김씨\",\"이씨\",\"박씨\",\"문씨\")\n",
        "\n",
        "type(성씨)\n",
        "# 수정을 할수 없다 이것만 빼면 나머지는 List와 모두 동일합니다."
      ]
    },
    {
      "cell_type": "code",
      "execution_count": null,
      "metadata": {},
      "outputs": [],
      "source": [
        "# 인덱스 접근\n",
        "\n",
        "print(성씨[1])\n",
        "\n",
        "# List처럼 슬라이싱도 할 수 있습니다. 그런데 여기서 주의할 점은 () 를 쓴다고 슬라이싱 할때에도 (0:2) 처럼 사용하면 안됩니다.\n",
        "print(성씨[0:2])"
      ]
    },
    {
      "cell_type": "code",
      "execution_count": null,
      "metadata": {},
      "outputs": [],
      "source": [
        "# 다음처럼 할 경우 오류 발생합니다.\n",
        "성씨(0:2)"
      ]
    },
    {
      "cell_type": "code",
      "execution_count": null,
      "metadata": {},
      "outputs": [],
      "source": [
        "# 튜플 수정?\n",
        "\n",
        "성씨[1] = \"최씨\""
      ]
    },
    {
      "cell_type": "code",
      "execution_count": null,
      "metadata": {},
      "outputs": [],
      "source": [
        "# 인덱스 추가\n",
        "\n",
        "성씨 = 성씨 + \"최씨\"\n",
        "print(성씨)"
      ]
    },
    {
      "cell_type": "code",
      "execution_count": null,
      "metadata": {},
      "outputs": [],
      "source": [
        "# Tuple 표기법 2 \n",
        "\n",
        "지역 = \"강남\",\"잠실\",\"구의\",\"분당\"\n",
        "\n",
        "type(지역)\n",
        "\n",
        "# 또한 Tuple은 만약 값이 하나인경우 튜플로 사용되지 않습니다.\n",
        "\n",
        "t = (3)\n",
        "type(t)\n",
        "\n",
        "# tuple에 한개의 값을 넣고 싶은 경우에는 (data,) 로 써주시면 됩니다.\n",
        "\n",
        "t = (3,)\n",
        "type(t)\n",
        "\n"
      ]
    },
    {
      "cell_type": "code",
      "execution_count": null,
      "metadata": {},
      "outputs": [],
      "source": [
        "### Dictionary \n",
        "# 이번엔 Dictionary에 대해 알아보려고 합니다.\n",
        "\n",
        "#Dictionary는 지금까지 배운 List랑은 비슷합니다, 하지만 저장하는 형식이 Key, Value 입니다.\n",
        "\n",
        "#딕셔너리는 중괄호 {} 를 이용하여 사용합니다.\n",
        "\n",
        "dic = {}\n",
        "type(dic)"
      ]
    },
    {
      "cell_type": "code",
      "execution_count": 8,
      "metadata": {},
      "outputs": [
        {
          "data": {
            "text/plain": [
              "[1, 2, 3, 4, 5]"
            ]
          },
          "execution_count": 8,
          "metadata": {},
          "output_type": "execute_result"
        }
      ],
      "source": [
        "#딕셔너리의 가장 좋은 점은 인덱스가 숫자가 아니라는 점입니다, 다음 예시를 봅시다.\n",
        "\n",
        "school = {\"선생님\":[\"김OO\",\"최OO\",\"박OO\"],\"반\":[1,2,3,4,5],\"위치\":\"강남구\"}\n",
        "\n",
        "#한번 school[\"선생님\"] 을 해볼까요?\n",
        "\n",
        "print(school[\"선생님\"])\n",
        "print(school[\"반\"])\n",
        "\n",
        "# 또한 다음 방법도 사용할 수 있습니다.\n",
        "print(school.get(\"위치\"))"
      ]
    },
    {
      "cell_type": "code",
      "execution_count": null,
      "metadata": {},
      "outputs": [],
      "source": [
        "# 딕셔너리 추가 방법은 엄청 다양합니다.\n",
        "\n",
        "school = {\"교직원수\":5}\n",
        "school[\"학생수\"] = 30"
      ]
    },
    {
      "cell_type": "code",
      "execution_count": null,
      "metadata": {},
      "outputs": [],
      "source": [
        "# 딕셔너리는 List처럼 수정하면 됩니다. 한번 school 의 key가 위치인 곳을 분당구로 바꿔볼까요?"
      ]
    },
    {
      "cell_type": "code",
      "execution_count": null,
      "metadata": {},
      "outputs": [],
      "source": [
        "# 해당 key가 딕셔너리 안에 있는지도 알 수 있습니다.\n",
        "\n",
        "'연락처' in school"
      ]
    },
    {
      "cell_type": "code",
      "execution_count": 9,
      "metadata": {},
      "outputs": [
        {
          "data": {
            "text/plain": [
              "list"
            ]
          },
          "execution_count": 9,
          "metadata": {},
          "output_type": "execute_result"
        }
      ],
      "source": [
        "#딕셔너리의 값을 다른 변수로 옮겨줄수도 있습니다.\n",
        "\n",
        "school_teacher = school[\"선생님\"]\n",
        "type(school_teacher)"
      ]
    },
    {
      "cell_type": "markdown",
      "metadata": {
        "id": "a0yAwneVOpco"
      },
      "source": [
        "## **연습해보기**"
      ]
    },
    {
      "cell_type": "code",
      "execution_count": null,
      "metadata": {
        "id": "6Q-IFu_jOoDS"
      },
      "outputs": [],
      "source": []
    },
    {
      "attachments": {},
      "cell_type": "markdown",
      "metadata": {
        "id": "L8KFM6ihMiDI"
      },
      "source": [
        "## **3차시 실습창**\n",
        "\n",
        "\n",
        "\n"
      ]
    },
    {
      "cell_type": "code",
      "execution_count": null,
      "metadata": {},
      "outputs": [],
      "source": [
        "data1 = {\n",
        "    \"year\":[2001,2002,2003,2004,2005,2006,2007,2008,2009,2010],\n",
        "    \"price_per_year\":[3000,3010,3000,3200,3300,3400,3500,3400,3900,4000],\n",
        "    \"price_name\":\"snack chip\",\n",
        "    \"now_price\":4000\n",
        "}\n",
        "\n",
        "#다음은 주어진 data 입니다. 각 key 값을 이용하여 value들을 출력해보세요"
      ]
    },
    {
      "cell_type": "code",
      "execution_count": null,
      "metadata": {},
      "outputs": [],
      "source": [
        "#2004년일때 음식의 가격을 알고 싶습니다. get을 사용하여 뽑아보세요"
      ]
    },
    {
      "cell_type": "code",
      "execution_count": null,
      "metadata": {},
      "outputs": [],
      "source": [
        "# price_name을 \"corn chip\" 으로 바꾸고 싶습니다 바꿔보세요"
      ]
    },
    {
      "cell_type": "code",
      "execution_count": null,
      "metadata": {},
      "outputs": [],
      "source": [
        "# 2011년의 가격은 4100원 입니다, year, price_per_year 의 value의 값을 추가해보고, now_price도 바꿔보세요"
      ]
    }
  ],
  "metadata": {
    "colab": {
      "provenance": []
    },
    "kernelspec": {
      "display_name": "dip",
      "language": "python",
      "name": "dip"
    },
    "language_info": {
      "codemirror_mode": {
        "name": "ipython",
        "version": 3
      },
      "file_extension": ".py",
      "mimetype": "text/x-python",
      "name": "python",
      "nbconvert_exporter": "python",
      "pygments_lexer": "ipython3",
      "version": "3.11.0"
    }
  },
  "nbformat": 4,
  "nbformat_minor": 0
}
