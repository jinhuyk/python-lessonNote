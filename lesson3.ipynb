{
  "cells": [
    {
      "cell_type": "markdown",
      "metadata": {
        "id": "zHzvLGFNT6Zb"
      },
      "source": [
        "## **3차시 - 기초 2**\n",
        "배워볼 내용\n",
        "*   연산자\n",
        "*   조건문\n"
      ]
    },
    {
      "cell_type": "markdown",
      "metadata": {},
      "source": [
        "\n",
        "우리가 어떤 조건을 만족한다면 참, 만족하지 못한다면 거짓이라고 흔히 표현합니다\n",
        "\n",
        "PYTHON 에서는 이를 True와 False로 나타냅니다"
      ]
    },
    {
      "cell_type": "markdown",
      "metadata": {},
      "source": [
        "### **'==' 에 대해 알아보기**\n",
        "\n",
        "'A == B' 는 A의 값과 B의 값을 비교하는데 사용되는 연산자 입니다, 해석하자면 A 와 B 가 같은가? 와 같습니다\n",
        "만약 A 와 B가 같다면 결과로는 True를 같지 않다면 False 를 내보낼 것입니다"
      ]
    },
    {
      "cell_type": "code",
      "execution_count": null,
      "metadata": {
        "id": "yFQpvtzLUQBy"
      },
      "outputs": [],
      "source": [
        "\n",
        "\n",
        "print(3 == 3)\n",
        "print(3 == 5)\n",
        "print('김길동' == '김길동')\n",
        "print(3 == '3')\n",
        "\n"
      ]
    },
    {
      "cell_type": "markdown",
      "metadata": {},
      "source": [
        "그런데 여기서 신기한 점이 있습니다 4번째 print를 보면 3 과 '3'은 언뜻 보기엔 같은데 False 라고 출력이 됩니다\n",
        "\n",
        "이는 3은 숫자를 나타내고, '3'은 문자를 나타내기 때문에 서로 다르다고 표현이 되는 것 입니다\n",
        "\n",
        "\n",
        "\n",
        "즉 파이썬은 숫자와 문자를 구별하는 것입니다"
      ]
    },
    {
      "cell_type": "markdown",
      "metadata": {},
      "source": [
        "### **'!=', '>', '<', '>=' , '<=' 알아보기**\n",
        "\n",
        "사실 '=='에서 눈치를 챘다면 다음 연산자들은 식은죽 먹기와 같습니다 \n",
        "\n",
        "'!=' 는 두 값이 다르다면 True\n",
        "\n",
        "'>' 는 왼쪽 값이 오른쪽보다 크다면 True\n",
        "\n",
        "... 나머지는 직접 실행시켜서 조건을 확인해보세요\n"
      ]
    },
    {
      "cell_type": "code",
      "execution_count": null,
      "metadata": {
        "id": "ncaYtRmnUpFe"
      },
      "outputs": [],
      "source": [
        "\n",
        "\n",
        "print(3 != 5)\n",
        "print( 3 > 2)\n",
        "print(5 > 6)\n",
        "print(5 < 6)\n",
        "print(3 >= 3)\n",
        "print(5 <= 5.1)\n"
      ]
    },
    {
      "cell_type": "markdown",
      "metadata": {},
      "source": [
        "위에서 배운 연산자들을 고급진 용어로 '비교 연산자' 라고 부릅니다\n",
        "\n",
        "이번엔 다른 연산자들도 알아보겠습니다\n",
        "\n",
        "조금 쉽게 산술 연산자에 대해 알아보겠습니다"
      ]
    },
    {
      "cell_type": "markdown",
      "metadata": {},
      "source": [
        "### **산술연산자**\n",
        "\n",
        "산술 연산자는 정말 쉽습니다 우리가 아는 더하기 빼기 나누기 곱하기 등등이 포함되있습니다\n",
        "\n",
        "이것은 예제를 통해 어떤 기능을 할지 유추해봅시다"
      ]
    },
    {
      "cell_type": "code",
      "execution_count": null,
      "metadata": {
        "id": "DRUnn5XbV6A8"
      },
      "outputs": [],
      "source": [
        "\n",
        "\n",
        "print(3+5)\n",
        "print(3*5)\n",
        "print(3-5)\n",
        "print(5.0/3)\n",
        "print(5**3)\n",
        "print(5//3)\n",
        "print(5%3)"
      ]
    },
    {
      "cell_type": "markdown",
      "metadata": {},
      "source": [
        "이것들을 이용하면 계산기 프로그램도 만들수 있을 것 같네요\n",
        "\n",
        "마지막으로 논리 연산자에 대해 알아보겠습니다"
      ]
    },
    {
      "cell_type": "markdown",
      "metadata": {},
      "source": [
        "### **논리 연산자**\n",
        "\n",
        "논리 연산자는 and, or, not 이 있습니다 \n",
        "\n",
        "논리 연산자는 앞에서 배운 True , False를 비교대조 하는것과 같습니다\n",
        "\n",
        "인터넷에서 논리연산자 표를 쳐봅시다."
      ]
    },
    {
      "cell_type": "code",
      "execution_count": null,
      "metadata": {
        "id": "o8fhxuqoWvQQ"
      },
      "outputs": [],
      "source": [
        "\n",
        "print(True or False)\n",
        "print(True and True)\n",
        "print(not True)\n"
      ]
    },
    {
      "cell_type": "markdown",
      "metadata": {},
      "source": [
        " 더 많은 연산자들이 있지만 기초를 알아가는데에는 이정도면 충분합니다 \n",
        "\n",
        "그럼 왜 연산자들을 ? 그것도 비교연산자, 논리연산자는 왜 배우는 걸까요? \n",
        "\n",
        "그것은 바로 조건문을 이용하기 위해서입니다"
      ]
    },
    {
      "cell_type": "markdown",
      "metadata": {},
      "source": [
        "### **조건문**\n",
        "\n",
        "조건문은 if 를 이용해서 진행됩니다\n",
        "\n",
        "if a == b: 이런식으로 사용하는 것이죠 \n",
        "위의 코드의 뜻은 a == b가 같다면? 과 같은 의미 입니다\n",
        "\n",
        " 예시를 통해서 if문을 익혀봅시다"
      ]
    },
    {
      "cell_type": "code",
      "execution_count": null,
      "metadata": {
        "id": "B8fuqq7qX3tl"
      },
      "outputs": [],
      "source": [
        "if 3 == 3:\n",
        "  print(\"3==3은 참입니다\")\n",
        "else:\n",
        "  print(\"3==3은 거짓입니다\")\n",
        "\n",
        "if 9 > 3:\n",
        "  print(\"9는 3보다 큽니다\")\n",
        "elif 9<3:\n",
        "  print(\"9는 3보다 작습니다\")\n",
        "else:\n",
        "  print(\"9와 3은 같습니다\")\n",
        "\n",
        "if 3 == 3 or 5 == 7:\n",
        "  print(\"True\")\n",
        "else:\n",
        "  print(\"False\")\n",
        "\n",
        "if 3 == 3 and 5 == 5:\n",
        "  print(\"True\")\n",
        "else:\n",
        "  print(\"False\")"
      ]
    },
    {
      "cell_type": "markdown",
      "metadata": {},
      "source": [
        "물론 숫자 말고 원하는 변수도 입력이 가능합니다, 앞에서 배운 입력을 이용해볼까요?"
      ]
    },
    {
      "cell_type": "code",
      "execution_count": null,
      "metadata": {
        "id": "TNz0XDKdYd-N"
      },
      "outputs": [],
      "source": [
        "a = int(input(\"a 값을 입력해주세요 :\"))\n",
        "if a > 5:\n",
        "  print(\"a는 5보다 큽니다\")\n",
        "else:\n",
        "  print(\"a는 5보다 작거나 같습니다\")\n",
        "\n",
        "# 여기서 input을 int로 감싼 것은 아까 말한거처럼 문자와 숫자는 비교대상이 아니기 때문입니다"
      ]
    },
    {
      "cell_type": "markdown",
      "metadata": {},
      "source": [
        "이제 그럼 조건문을 이용해서 실습을 해볼까요?"
      ]
    },
    {
      "cell_type": "markdown",
      "metadata": {
        "id": "-sWS9JJtY-R1"
      },
      "source": [
        "### 실습 1."
      ]
    },
    {
      "cell_type": "markdown",
      "metadata": {
        "id": "_pz6R4IzZDxk"
      },
      "source": [
        "위에서 해본 변수 b에 값을 입력해보고, b가 숫자 10보다 큰지 작은지 같은지 비교하는 조건문을 작성해봅시다"
      ]
    },
    {
      "cell_type": "code",
      "execution_count": null,
      "metadata": {
        "id": "HHzC0OxYaXaj"
      },
      "outputs": [],
      "source": []
    },
    {
      "cell_type": "markdown",
      "metadata": {
        "id": "zMiqkEobaZTP"
      },
      "source": [
        "두개의 숫자를 입력 받고 그 두 숫자를 더한 값을 출력해봅시다"
      ]
    },
    {
      "cell_type": "code",
      "execution_count": null,
      "metadata": {
        "id": "li4SZbsta8CZ"
      },
      "outputs": [],
      "source": []
    },
    {
      "cell_type": "markdown",
      "metadata": {
        "id": "oya_SOlTa8sO"
      },
      "source": [
        "두개의 숫자를 입력 받고 그 두 숫자를 뺀 값을 출력해봅시다"
      ]
    },
    {
      "cell_type": "code",
      "execution_count": null,
      "metadata": {
        "id": "FAUVjjg6bA-W"
      },
      "outputs": [],
      "source": []
    },
    {
      "cell_type": "markdown",
      "metadata": {
        "id": "TufNFUoRbBMO"
      },
      "source": [
        "세개의 숫자를 입력받고 그 세 숫자를 곱한 값을 출력해봅시다"
      ]
    },
    {
      "cell_type": "code",
      "execution_count": null,
      "metadata": {
        "id": "QCunf3jEbSRK"
      },
      "outputs": [],
      "source": []
    },
    {
      "cell_type": "markdown",
      "metadata": {},
      "source": [
        "### 실습 2."
      ]
    },
    {
      "cell_type": "markdown",
      "metadata": {
        "id": "p_nNXRRmbSsG"
      },
      "source": [
        "직접 파이썬을 이용하여 나만의 계산기를 만들어봅시다.\n",
        "\n",
        "\n",
        "\n",
        "입력으로 \"+\"를 입력받으면 두 숫자를 입력 받은 후 더한 값 출력하기\n",
        "\n",
        "입력으로 \"-\"를 입력받으면 두 숫자를 입력 받은 후 뺀 값 출력하기"
      ]
    },
    {
      "cell_type": "code",
      "execution_count": null,
      "metadata": {},
      "outputs": [],
      "source": []
    }
  ],
  "metadata": {
    "colab": {
      "provenance": []
    },
    "kernelspec": {
      "display_name": "Python 3",
      "name": "python3"
    },
    "language_info": {
      "name": "python"
    }
  },
  "nbformat": 4,
  "nbformat_minor": 0
}
