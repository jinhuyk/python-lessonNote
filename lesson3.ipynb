{
  "cells": [
    {
      "attachments": {},
      "cell_type": "markdown",
      "metadata": {
        "id": "UuwqnkNthlXJ"
      },
      "source": [
        "## **3차시 - 슬라이싱과 인덱싱**\n",
        "배워볼 내용\n",
        "*   슬라이싱과 인덱싱\n"
      ]
    },
    {
      "cell_type": "markdown",
      "metadata": {},
      "source": [
        "해당 실습에서는 저번에 배운 list 구조를 사용할 것입니다."
      ]
    },
    {
      "cell_type": "code",
      "execution_count": null,
      "metadata": {},
      "outputs": [],
      "source": [
        "# 해당 실습에서 다음 List를 사용할 것입니다.\n",
        "List = [\"a\",\"b\",\"c\",\"d\",\"e\",\"f\",\"g\"]\n",
        "\n",
        "# Slicing은 List[start: end+1: step = (default 1)] 형태로 작성할 수 있습니다."
      ]
    },
    {
      "cell_type": "markdown",
      "metadata": {},
      "source": [
        "### **슬라이싱**\n",
        "\n",
        "슬라이싱이란 말그대로 자르는 것을 의미합니다.\n",
        "\n",
        "이름들이 쭉 나열된 표가 있을때 필요한 부분만 사용하려면 그 부분을 자르는 것처럼, list 구조도 필요한 부분만 잘라서 사용할 수 있습니다.\n",
        "\n",
        "자르는 기준은 지난 2차시에서 배운 인덱싱이란 기능으로 사용할 수 있습니다."
      ]
    },
    {
      "cell_type": "markdown",
      "metadata": {},
      "source": [
        "list의 인덱스가 2 부터 5인 곳까지 추출하려면 다음처럼 작성하면 됩니다."
      ]
    },
    {
      "cell_type": "code",
      "execution_count": null,
      "metadata": {},
      "outputs": [],
      "source": [
        "\n",
        "List[2:6]\n"
      ]
    },
    {
      "cell_type": "markdown",
      "metadata": {},
      "source": [
        "그럼 처음인 곳부터 5인 곳까지 추출하려면 어떻게 하면 될까요? 다음처럼 사용하면 됩니다."
      ]
    },
    {
      "cell_type": "code",
      "execution_count": null,
      "metadata": {},
      "outputs": [],
      "source": [
        "\n",
        "List[0:6]\n",
        "List[:6]\n"
      ]
    },
    {
      "cell_type": "markdown",
      "metadata": {},
      "source": [
        "이번에는 특정 위치부터 마지막곳까지 추출해볼까요?\n",
        "\n",
        "처음부터 와 반대로 작성하면 됩니다."
      ]
    },
    {
      "cell_type": "code",
      "execution_count": null,
      "metadata": {},
      "outputs": [],
      "source": [
        "\n",
        "\n",
        "List[2:]\n"
      ]
    },
    {
      "cell_type": "markdown",
      "metadata": {},
      "source": [
        "이번에는 음수를 써볼까요? 음수는 뒤부터 센다고 생각하면 됩니다."
      ]
    },
    {
      "cell_type": "code",
      "execution_count": null,
      "metadata": {},
      "outputs": [],
      "source": [
        "\n",
        "\n",
        "List[-3:-1]\n"
      ]
    },
    {
      "cell_type": "markdown",
      "metadata": {},
      "source": [
        "이번에는 한칸씩 말고 원하는 칸번씩 뽑아봅시다."
      ]
    },
    {
      "cell_type": "code",
      "execution_count": null,
      "metadata": {},
      "outputs": [],
      "source": [
        "\n",
        "\n",
        "List[::2] # 처음부터 마지막까지 처음을 기준으로 2칸씩 뽑는다는 의미 입니다."
      ]
    },
    {
      "cell_type": "markdown",
      "metadata": {},
      "source": [
        "### 실습 1.\n",
        "\n",
        "List를 거꾸로 출력해봅시다.\n",
        "\n",
        "-힌트는 원하는 칸번 숫자를 조정해보는 것입니다. (음수)"
      ]
    },
    {
      "cell_type": "code",
      "execution_count": null,
      "metadata": {},
      "outputs": [],
      "source": [
        "\n",
        "\n",
        "List[5::-1]"
      ]
    },
    {
      "cell_type": "markdown",
      "metadata": {},
      "source": [
        "---"
      ]
    },
    {
      "cell_type": "markdown",
      "metadata": {},
      "source": [
        "이번엔 List에서 특정 부분을 잘라서 새로운 List를 만들어봅시다."
      ]
    },
    {
      "cell_type": "code",
      "execution_count": null,
      "metadata": {},
      "outputs": [],
      "source": [
        "\n",
        "\n",
        "리스트 = List[:2] + List[4:]\n",
        "print(리스트)"
      ]
    },
    {
      "cell_type": "markdown",
      "metadata": {},
      "source": [
        "### 실습 2."
      ]
    },
    {
      "cell_type": "markdown",
      "metadata": {},
      "source": [
        "충분한 실습을 통해 슬라이싱을 마스터 해봅시다.\n",
        "\n",
        "슬라이싱을 잘하면... 파이썬을 엄청 잘 다룰 수 있게 됩니다."
      ]
    },
    {
      "cell_type": "markdown",
      "metadata": {},
      "source": [
        "다음은 ID라는 list 입니다."
      ]
    },
    {
      "cell_type": "code",
      "execution_count": null,
      "metadata": {},
      "outputs": [],
      "source": [
        "ID = [\"000\",\"001\",\"002\",\"003\",\"004\",\"005\",\"006\"]"
      ]
    },
    {
      "cell_type": "markdown",
      "metadata": {},
      "source": [
        "ID 리스트의 맨앞 데이터 2개를 출력해봅시다."
      ]
    },
    {
      "cell_type": "code",
      "execution_count": null,
      "metadata": {},
      "outputs": [],
      "source": []
    },
    {
      "cell_type": "markdown",
      "metadata": {},
      "source": [
        "이번엔 맨 뒤 데이터 2개를 출력해봅시다."
      ]
    },
    {
      "cell_type": "code",
      "execution_count": null,
      "metadata": {},
      "outputs": [],
      "source": []
    },
    {
      "cell_type": "markdown",
      "metadata": {},
      "source": [
        "이번엔 데이터 002 부터 005까지를 슬라이싱을 통해 가져옵시다!"
      ]
    },
    {
      "cell_type": "code",
      "execution_count": null,
      "metadata": {},
      "outputs": [],
      "source": []
    },
    {
      "cell_type": "markdown",
      "metadata": {},
      "source": [
        "이번엔 홀수 번째 ID만 가져와볼까요?"
      ]
    },
    {
      "cell_type": "code",
      "execution_count": null,
      "metadata": {},
      "outputs": [],
      "source": []
    },
    {
      "cell_type": "markdown",
      "metadata": {},
      "source": [
        "마지막입니다. 리스트를 뒤집어서 출력해봅시다!"
      ]
    },
    {
      "cell_type": "code",
      "execution_count": null,
      "metadata": {},
      "outputs": [],
      "source": []
    }
  ],
  "metadata": {
    "colab": {
      "provenance": []
    },
    "kernelspec": {
      "display_name": "Python 3",
      "name": "python3"
    },
    "language_info": {
      "name": "python"
    }
  },
  "nbformat": 4,
  "nbformat_minor": 0
}
